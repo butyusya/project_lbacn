{
  "nbformat": 4,
  "nbformat_minor": 0,
  "metadata": {
    "colab": {
      "provenance": [],
      "authorship_tag": "ABX9TyMHk4B0kk7JuHV8imaxwZ0X",
      "include_colab_link": true
    },
    "kernelspec": {
      "name": "python3",
      "display_name": "Python 3"
    },
    "language_info": {
      "name": "python"
    }
  },
  "cells": [
    {
      "cell_type": "markdown",
      "metadata": {
        "id": "view-in-github",
        "colab_type": "text"
      },
      "source": [
        "<a href=\"https://colab.research.google.com/github/butyusya/project_lbacn/blob/main/crawler.ipynb\" target=\"_parent\"><img src=\"https://colab.research.google.com/assets/colab-badge.svg\" alt=\"Open In Colab\"/></a>"
      ]
    },
    {
      "cell_type": "code",
      "source": [
        "!git clone https://butyusya:<PERSONAL_ACCESS_TOKEN>@github.com/butyusya/project_lbacn"
      ],
      "metadata": {
        "colab": {
          "base_uri": "https://localhost:8080/"
        },
        "id": "4SWwIVCAZ6IW",
        "outputId": "061d0f15-dcc2-49ab-a01f-73ed81631125"
      },
      "execution_count": 1,
      "outputs": [
        {
          "output_type": "stream",
          "name": "stdout",
          "text": [
            "Cloning into 'project_lbacn'...\n",
            "remote: Enumerating objects: 11, done.\u001b[K\n",
            "remote: Counting objects: 100% (11/11), done.\u001b[K\n",
            "remote: Compressing objects: 100% (8/8), done.\u001b[K\n",
            "remote: Total 11 (delta 1), reused 3 (delta 0), pack-reused 0\u001b[K\n",
            "Receiving objects: 100% (11/11), 5.37 KiB | 5.37 MiB/s, done.\n",
            "Resolving deltas: 100% (1/1), done.\n"
          ]
        }
      ]
    },
    {
      "cell_type": "code",
      "source": [
        "!git config --global user.email\n",
        "!git config --global user.name \"butyusya\""
      ],
      "metadata": {
        "id": "HLSowH9IMpMr"
      },
      "execution_count": 2,
      "outputs": []
    },
    {
      "cell_type": "code",
      "source": [
        "!pip install fake_useragent"
      ],
      "metadata": {
        "colab": {
          "base_uri": "https://localhost:8080/"
        },
        "id": "v69WfaxEbh8G",
        "outputId": "3c346ddd-fccd-4a81-c77d-0d0554deb209"
      },
      "execution_count": 3,
      "outputs": [
        {
          "output_type": "stream",
          "name": "stdout",
          "text": [
            "Requirement already satisfied: fake_useragent in /usr/local/lib/python3.10/dist-packages (1.4.0)\n"
          ]
        }
      ]
    },
    {
      "cell_type": "code",
      "source": [
        "import requests\n",
        "from fake_useragent import UserAgent\n",
        "from bs4 import BeautifulSoup\n",
        "import re"
      ],
      "metadata": {
        "id": "26oGHC6MvTNm"
      },
      "execution_count": 4,
      "outputs": []
    },
    {
      "cell_type": "code",
      "source": [
        "ua = UserAgent()\n",
        "headers = {'User-Agent': ua.random}\n",
        "session = requests.session()"
      ],
      "metadata": {
        "id": "Xsb0--T_vdol"
      },
      "execution_count": 5,
      "outputs": []
    },
    {
      "cell_type": "code",
      "source": [
        "def parse_episode(episode):\n",
        "  block = {}\n",
        "  info = episode.find_all('td')\n",
        "  id = info[4].text.strip()\n",
        "  block['ep_id'] = int(re.sub(r'\\[\\d+\\]', '', id))\n",
        "  block['season'] = block['ep_id'] // 100\n",
        "  block['ep_href'] = info[2].find('a').attrs['href']\n",
        "  block['ep_title'] = info[2].find('a').text\n",
        "  return block"
      ],
      "metadata": {
        "id": "jqDAmLrh4j3L"
      },
      "execution_count": 6,
      "outputs": []
    },
    {
      "cell_type": "code",
      "source": [
        "def parse_episode_info(block):\n",
        "  url = 'https://miraculousladybug.fandom.com' + block['ep_href']\n",
        "  req = session.get(url, headers={'User-Agent': ua.random})\n",
        "  body = req.text\n",
        "  text = body.split('Synopsis</span>')[2]\n",
        "  first_div = text.split('<span class=\"mw-headline\" id=\"Plot\">Plot</span>')\n",
        "  syn = first_div[0]\n",
        "  porridge = BeautifulSoup(syn, 'html.parser')\n",
        "  synopsis = porridge.find('p').text.strip()\n",
        "  block['synopsis'] = re.sub(r'\\[\\d+\\]', '', synopsis)\n",
        "  other = first_div[1]\n",
        "  second_div = other.split('<h2>')\n",
        "  pl = second_div[0]\n",
        "  porridge = BeautifulSoup(pl, 'html.parser')\n",
        "  pl_pars = porridge.find_all('p')\n",
        "  plot = ''\n",
        "  for p in pl_pars:\n",
        "    plot += p.text\n",
        "  block['plot'] = re.sub(r'\\[\\d+\\]', '', plot)\n",
        "  url_scr = 'https://miraculousladybug.fandom.com' + block['ep_href']+ '/Transcript'\n",
        "  req = session.get(url_scr, headers={'User-Agent': ua.random})\n",
        "  body = req.text\n",
        "  script = body.split('</td></tr></tbody></table></center>')[1].split('THE END')[0]\n",
        "  porridge = BeautifulSoup(script, 'html.parser')\n",
        "  block['script'] = porridge.text.replace('[ Theme Song ]', '').replace('[ Theme song ]', '').strip()\n",
        "  return block"
      ],
      "metadata": {
        "id": "8A6CsffoT0Mw"
      },
      "execution_count": 7,
      "outputs": []
    },
    {
      "cell_type": "code",
      "source": [
        "def parse_season(table, blocks):\n",
        "  episodes = table.find_all('tr')\n",
        "  for n in range(1, len(episodes)):\n",
        "    try:\n",
        "      block = parse_episode(episodes[n])\n",
        "    except Exception as e:\n",
        "      print(1, e, n)\n",
        "    try:\n",
        "      parse_episode_info(block)\n",
        "    except Exception as e:\n",
        "      print(2, e, n)\n",
        "    try:\n",
        "      blocks.append(block)\n",
        "    except Exception as e:\n",
        "      print(3, e, n)\n",
        "  return blocks"
      ],
      "metadata": {
        "id": "jAhKfPwI7DXc"
      },
      "execution_count": 8,
      "outputs": []
    },
    {
      "cell_type": "code",
      "source": [
        "blocks = []\n",
        "for i in range(1, 6):\n",
        "  try:\n",
        "    url_one = 'https://miraculousladybug.fandom.com/wiki/Season_' + str(i)\n",
        "    req = session.get(url_one, headers={'User-Agent': ua.random})\n",
        "    body = req.text\n",
        "    soup = BeautifulSoup(body, 'html.parser')\n",
        "    tables = soup.find_all('table')\n",
        "    table = tables[4]\n",
        "    parse_season(table, blocks)\n",
        "  except Exception as e:\n",
        "    print(0, e, i)"
      ],
      "metadata": {
        "id": "4P1EmV-rJBr2"
      },
      "execution_count": 9,
      "outputs": []
    },
    {
      "cell_type": "code",
      "source": [
        "new_table_query = \"\"\"\n",
        "CREATE TABLE episodes (\n",
        "    ep_id INT,\n",
        "    season INT,\n",
        "    ep_href TEXT,\n",
        "    ep_title TEXT,\n",
        "    synopsis TEXT,\n",
        "    plot TEXT,\n",
        "    script TEXT,\n",
        "    PRIMARY KEY (ep_id)\n",
        ")\n",
        "\"\"\""
      ],
      "metadata": {
        "id": "HwXwD60vJ2_N"
      },
      "execution_count": 10,
      "outputs": []
    },
    {
      "cell_type": "code",
      "source": [
        "import sqlite3\n",
        "\n",
        "con = sqlite3.connect('project_lbacn/lbacn.db')\n",
        "cur = con.cursor()\n",
        "cur.execute(new_table_query)\n",
        "con.commit()"
      ],
      "metadata": {
        "id": "WiPL6lc9JjOb"
      },
      "execution_count": 11,
      "outputs": []
    },
    {
      "cell_type": "code",
      "source": [
        "for block in blocks:\n",
        "  cur.execute(\"INSERT INTO episodes VALUES (:ep_id, :season, :ep_href, :ep_title, :synopsis, :plot, :script)\", block)\n",
        "con.commit()"
      ],
      "metadata": {
        "id": "ULpEcCcVK6H4"
      },
      "execution_count": 12,
      "outputs": []
    },
    {
      "cell_type": "code",
      "source": [
        "def get_image(block):\n",
        "  url = 'https://miraculousladybug.fandom.com' + block['ep_href']\n",
        "  req = session.get(url, headers={'User-Agent': ua.random})\n",
        "  body = req.text\n",
        "  porridge = BeautifulSoup(body, 'html.parser')\n",
        "  image_info = porridge.find('figure', {'class': 'pi-item pi-image'})\n",
        "  image_url = image_info.find('a').attrs['href']\n",
        "  img_data = requests.get(image_url).content\n",
        "  with open('project_lbacn/static/'+str(block['ep_id'])+'.png', 'wb') as handler:\n",
        "    handler.write(img_data)"
      ],
      "metadata": {
        "id": "HmKQJti69JEW"
      },
      "execution_count": 13,
      "outputs": []
    },
    {
      "cell_type": "code",
      "source": [
        "for b in blocks:\n",
        "  try:\n",
        "    get_image(b)\n",
        "  except Exception as e:\n",
        "    print(b['ep_id'], e)"
      ],
      "metadata": {
        "id": "o812fVcU87RX"
      },
      "execution_count": 15,
      "outputs": []
    },
    {
      "cell_type": "code",
      "source": [
        "%cd project_lbacn\n",
        "!git add lbacn.db\n",
        "!git add static"
      ],
      "metadata": {
        "colab": {
          "base_uri": "https://localhost:8080/"
        },
        "id": "5-bnWWQRU3-P",
        "outputId": "ccbb3dd7-e712-4650-dc62-a1ccfb88becd"
      },
      "execution_count": 16,
      "outputs": [
        {
          "output_type": "stream",
          "name": "stdout",
          "text": [
            "/content/project_lbacn\n"
          ]
        }
      ]
    },
    {
      "cell_type": "code",
      "source": [
        "!git commit -m 'db and images'"
      ],
      "metadata": {
        "colab": {
          "base_uri": "https://localhost:8080/"
        },
        "id": "_yMHSp-GT6yc",
        "outputId": "7c40892b-101f-4532-b1de-32a2aa4f7b04"
      },
      "execution_count": 17,
      "outputs": [
        {
          "output_type": "stream",
          "name": "stdout",
          "text": [
            "[main 72af00b] db and images\n",
            " 132 files changed, 0 insertions(+), 0 deletions(-)\n",
            " create mode 100644 lbacn.db\n",
            " create mode 100644 static/101.png\n",
            " create mode 100644 static/102.png\n",
            " create mode 100644 static/103.png\n",
            " create mode 100644 static/104.png\n",
            " create mode 100644 static/105.png\n",
            " create mode 100644 static/106.png\n",
            " create mode 100644 static/107.png\n",
            " create mode 100644 static/108.png\n",
            " create mode 100644 static/109.png\n",
            " create mode 100644 static/110.png\n",
            " create mode 100644 static/111.png\n",
            " create mode 100644 static/112.png\n",
            " create mode 100644 static/113.png\n",
            " create mode 100644 static/114.png\n",
            " create mode 100644 static/115.png\n",
            " create mode 100644 static/116.png\n",
            " create mode 100644 static/117.png\n",
            " create mode 100644 static/118.png\n",
            " create mode 100644 static/119.png\n",
            " create mode 100644 static/120.png\n",
            " create mode 100644 static/121.png\n",
            " create mode 100644 static/122.png\n",
            " create mode 100644 static/123.png\n",
            " create mode 100644 static/124.png\n",
            " create mode 100644 static/125.png\n",
            " create mode 100644 static/126.png\n",
            " create mode 100644 static/201.png\n",
            " create mode 100644 static/202.png\n",
            " create mode 100644 static/203.png\n",
            " create mode 100644 static/204.png\n",
            " create mode 100644 static/205.png\n",
            " create mode 100644 static/206.png\n",
            " create mode 100644 static/207.png\n",
            " create mode 100644 static/208.png\n",
            " create mode 100644 static/209.png\n",
            " create mode 100644 static/210.png\n",
            " create mode 100644 static/211.png\n",
            " create mode 100644 static/212.png\n",
            " create mode 100644 static/213.png\n",
            " create mode 100644 static/214.png\n",
            " create mode 100644 static/215.png\n",
            " create mode 100644 static/216.png\n",
            " create mode 100644 static/217.png\n",
            " create mode 100644 static/218.png\n",
            " create mode 100644 static/219.png\n",
            " create mode 100644 static/220.png\n",
            " create mode 100644 static/221.png\n",
            " create mode 100644 static/222.png\n",
            " create mode 100644 static/223.png\n",
            " create mode 100644 static/224.png\n",
            " create mode 100644 static/225.png\n",
            " create mode 100644 static/226.png\n",
            " create mode 100644 static/301.png\n",
            " create mode 100644 static/302.png\n",
            " create mode 100644 static/303.png\n",
            " create mode 100644 static/304.png\n",
            " create mode 100644 static/305.png\n",
            " create mode 100644 static/306.png\n",
            " create mode 100644 static/307.png\n",
            " create mode 100644 static/308.png\n",
            " create mode 100644 static/309.png\n",
            " create mode 100644 static/310.png\n",
            " create mode 100644 static/311.png\n",
            " create mode 100644 static/312.png\n",
            " create mode 100644 static/313.png\n",
            " create mode 100644 static/314.png\n",
            " create mode 100644 static/315.png\n",
            " create mode 100644 static/316.png\n",
            " create mode 100644 static/317.png\n",
            " create mode 100644 static/318.png\n",
            " create mode 100644 static/319.png\n",
            " create mode 100644 static/320.png\n",
            " create mode 100644 static/321.png\n",
            " create mode 100644 static/322.png\n",
            " create mode 100644 static/323.png\n",
            " create mode 100644 static/324.png\n",
            " create mode 100644 static/325.png\n",
            " create mode 100644 static/326.png\n",
            " create mode 100644 static/401.png\n",
            " create mode 100644 static/402.png\n",
            " create mode 100644 static/403.png\n",
            " create mode 100644 static/404.png\n",
            " create mode 100644 static/405.png\n",
            " create mode 100644 static/406.png\n",
            " create mode 100644 static/407.png\n",
            " create mode 100644 static/408.png\n",
            " create mode 100644 static/409.png\n",
            " create mode 100644 static/410.png\n",
            " create mode 100644 static/411.png\n",
            " create mode 100644 static/412.png\n",
            " create mode 100644 static/413.png\n",
            " create mode 100644 static/414.png\n",
            " create mode 100644 static/415.png\n",
            " create mode 100644 static/416.png\n",
            " create mode 100644 static/417.png\n",
            " create mode 100644 static/418.png\n",
            " create mode 100644 static/419.png\n",
            " create mode 100644 static/420.png\n",
            " create mode 100644 static/421.png\n",
            " create mode 100644 static/422.png\n",
            " create mode 100644 static/423.png\n",
            " create mode 100644 static/424.png\n",
            " create mode 100644 static/425.png\n",
            " create mode 100644 static/426.png\n",
            " create mode 100644 static/501.png\n",
            " create mode 100644 static/502.png\n",
            " create mode 100644 static/503.png\n",
            " create mode 100644 static/504.png\n",
            " create mode 100644 static/505.png\n",
            " create mode 100644 static/506.png\n",
            " create mode 100644 static/507.png\n",
            " create mode 100644 static/508.png\n",
            " create mode 100644 static/509.png\n",
            " create mode 100644 static/510.png\n",
            " create mode 100644 static/511.png\n",
            " create mode 100644 static/512.png\n",
            " create mode 100644 static/513.png\n",
            " create mode 100644 static/514.png\n",
            " create mode 100644 static/515.png\n",
            " create mode 100644 static/516.png\n",
            " create mode 100644 static/517.png\n",
            " create mode 100644 static/518.png\n",
            " create mode 100644 static/519.png\n",
            " create mode 100644 static/520.png\n",
            " create mode 100644 static/521.png\n",
            " create mode 100644 static/522.png\n",
            " create mode 100644 static/523.png\n",
            " create mode 100644 static/524.png\n",
            " create mode 100644 static/525.png\n",
            " create mode 100644 static/526.png\n",
            " create mode 100644 static/527.png\n"
          ]
        }
      ]
    },
    {
      "cell_type": "code",
      "source": [
        "!git push"
      ],
      "metadata": {
        "colab": {
          "base_uri": "https://localhost:8080/"
        },
        "id": "iakPArE2Nx07",
        "outputId": "fcfeadcd-56c6-44ae-f55b-3ab2b3fe1a2a"
      },
      "execution_count": 18,
      "outputs": [
        {
          "output_type": "stream",
          "name": "stdout",
          "text": [
            "Enumerating objects: 136, done.\n",
            "Counting objects:   0% (1/136)\rCounting objects:   1% (2/136)\rCounting objects:   2% (3/136)\rCounting objects:   3% (5/136)\rCounting objects:   4% (6/136)\rCounting objects:   5% (7/136)\rCounting objects:   6% (9/136)\rCounting objects:   7% (10/136)\rCounting objects:   8% (11/136)\rCounting objects:   9% (13/136)\rCounting objects:  10% (14/136)\rCounting objects:  11% (15/136)\rCounting objects:  12% (17/136)\rCounting objects:  13% (18/136)\rCounting objects:  14% (20/136)\rCounting objects:  15% (21/136)\rCounting objects:  16% (22/136)\rCounting objects:  17% (24/136)\rCounting objects:  18% (25/136)\rCounting objects:  19% (26/136)\rCounting objects:  20% (28/136)\rCounting objects:  21% (29/136)\rCounting objects:  22% (30/136)\rCounting objects:  23% (32/136)\rCounting objects:  24% (33/136)\rCounting objects:  25% (34/136)\rCounting objects:  26% (36/136)\rCounting objects:  27% (37/136)\rCounting objects:  28% (39/136)\rCounting objects:  29% (40/136)\rCounting objects:  30% (41/136)\rCounting objects:  31% (43/136)\rCounting objects:  32% (44/136)\rCounting objects:  33% (45/136)\rCounting objects:  34% (47/136)\rCounting objects:  35% (48/136)\rCounting objects:  36% (49/136)\rCounting objects:  37% (51/136)\rCounting objects:  38% (52/136)\rCounting objects:  39% (54/136)\rCounting objects:  40% (55/136)\rCounting objects:  41% (56/136)\rCounting objects:  42% (58/136)\rCounting objects:  43% (59/136)\rCounting objects:  44% (60/136)\rCounting objects:  45% (62/136)\rCounting objects:  46% (63/136)\rCounting objects:  47% (64/136)\rCounting objects:  48% (66/136)\rCounting objects:  49% (67/136)\rCounting objects:  50% (68/136)\rCounting objects:  51% (70/136)\rCounting objects:  52% (71/136)\rCounting objects:  53% (73/136)\rCounting objects:  54% (74/136)\rCounting objects:  55% (75/136)\rCounting objects:  56% (77/136)\rCounting objects:  57% (78/136)\rCounting objects:  58% (79/136)\rCounting objects:  59% (81/136)\rCounting objects:  60% (82/136)\rCounting objects:  61% (83/136)\rCounting objects:  62% (85/136)\rCounting objects:  63% (86/136)\rCounting objects:  64% (88/136)\rCounting objects:  65% (89/136)\rCounting objects:  66% (90/136)\rCounting objects:  67% (92/136)\rCounting objects:  68% (93/136)\rCounting objects:  69% (94/136)\rCounting objects:  70% (96/136)\rCounting objects:  71% (97/136)\rCounting objects:  72% (98/136)\rCounting objects:  73% (100/136)\rCounting objects:  74% (101/136)\rCounting objects:  75% (102/136)\rCounting objects:  76% (104/136)\rCounting objects:  77% (105/136)\rCounting objects:  78% (107/136)\rCounting objects:  79% (108/136)\rCounting objects:  80% (109/136)\rCounting objects:  81% (111/136)\rCounting objects:  82% (112/136)\rCounting objects:  83% (113/136)\rCounting objects:  84% (115/136)\rCounting objects:  85% (116/136)\rCounting objects:  86% (117/136)\rCounting objects:  87% (119/136)\rCounting objects:  88% (120/136)\rCounting objects:  89% (122/136)\rCounting objects:  90% (123/136)\rCounting objects:  91% (124/136)\rCounting objects:  92% (126/136)\rCounting objects:  93% (127/136)\rCounting objects:  94% (128/136)\rCounting objects:  95% (130/136)\rCounting objects:  96% (131/136)\rCounting objects:  97% (132/136)\rCounting objects:  98% (134/136)\rCounting objects:  99% (135/136)\rCounting objects: 100% (136/136)\rCounting objects: 100% (136/136), done.\n",
            "Delta compression using up to 2 threads\n",
            "Compressing objects: 100% (135/135), done.\n",
            "Writing objects: 100% (135/135), 455.23 MiB | 16.01 MiB/s, done.\n",
            "Total 135 (delta 0), reused 0 (delta 0), pack-reused 0\n",
            "To https://github.com/butyusya/project_lbacn\n",
            "   63db297..72af00b  main -> main\n"
          ]
        }
      ]
    }
  ]
}
